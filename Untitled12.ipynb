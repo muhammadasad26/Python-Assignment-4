{
 "cells": [
  {
   "cell_type": "code",
   "execution_count": 8,
   "id": "ae616236",
   "metadata": {},
   "outputs": [
    {
     "name": "stdout",
     "output_type": "stream",
     "text": [
      "Enter First Number: 4\n",
      "Enter Second Number: 3\n",
      "Enter an operator e.g. '+, -, *, /, **' : **\n",
      "4 ** 3 = 64\n"
     ]
    }
   ],
   "source": [
    "# 1. Make a calculator using Python with addition, subtraction, multiplication, division and power.\n",
    "num1 = int(input(\"Enter First Number: \"));\n",
    "num2= int(input(\"Enter Second Number: \"));\n",
    "operator = input(\"Enter an operator e.g. '+, -, *, /, **' : \");\n",
    "result = 0;\n",
    "if operator == '+':\n",
    "    result = num1+num2;\n",
    "    print(str(num1) + \" \" + operator + \" \" + str(num2) + \" = \" + str(result));\n",
    "elif operator == '-':\n",
    "    result = num1-num2;\n",
    "    print(str(num1) + \" \" + operator + \" \" + str(num2) + \" = \" + str(result));\n",
    "elif operator == '*':\n",
    "    result = num1*num2;\n",
    "    print(str(num1) + \" \" + operator + \" \" + str(num2) + \" = \" + str(result));\n",
    "elif operator == '/':\n",
    "    result = num1/num2;\n",
    "    print(str(num1) + \" \" + operator + \" \" + str(num2) + \" = \" + str(result));\n",
    "elif operator == '**':\n",
    "    result = num1**num2;\n",
    "    print(str(num1) + \" \" + operator + \" \" + str(num2) + \" = \" + str(result));\n",
    "else:\n",
    "    print(\"invalid operator\");"
   ]
  },
  {
   "cell_type": "code",
   "execution_count": 9,
   "id": "c3266e9c",
   "metadata": {},
   "outputs": [
    {
     "name": "stdout",
     "output_type": "stream",
     "text": [
      "The above list contains numeric value\n"
     ]
    }
   ],
   "source": [
    "# 2. Write a program to check if there is any numeric value in list using for loop.\n",
    "lst = [\"Book\", \"Boy\", 88];\n",
    "flag = 0;\n",
    "for i in lst:\n",
    "    if type(i) == int:\n",
    "        flag = 1;\n",
    "        break;\n",
    "if flag == 1:\n",
    "    print(\"The above list contains numeric value\");\n",
    "else:\n",
    "    print(\"The above list does not contain numeric value\");"
   ]
  },
  {
   "cell_type": "code",
   "execution_count": 10,
   "id": "5560943f",
   "metadata": {},
   "outputs": [
    {
     "name": "stdout",
     "output_type": "stream",
     "text": [
      "{'First Name': 'Muhammad', 'Last Name': 'Asad', 'Mobile No': 923001234567}\n"
     ]
    }
   ],
   "source": [
    "# 3. Write a Python script to add a key to a dictionary.\n",
    "dic = {\"First Name\":\"Muhammad\", \"Last Name\":\"Asad\"};\n",
    "dic[\"Mobile No\"] = 923001234567;\n",
    "print(dic);"
   ]
  },
  {
   "cell_type": "code",
   "execution_count": 11,
   "id": "2eab7196",
   "metadata": {},
   "outputs": [
    {
     "name": "stdout",
     "output_type": "stream",
     "text": [
      "163\n"
     ]
    }
   ],
   "source": [
    "# 4. Write a Python program to sum all the numeric items in a dictionary.\n",
    "a = {\"value1\":56, \"value2\":55, \"value3\":52};\n",
    "print(sum(a.values()));"
   ]
  },
  {
   "cell_type": "code",
   "execution_count": 6,
   "id": "f5c10fdf",
   "metadata": {},
   "outputs": [
    {
     "name": "stdout",
     "output_type": "stream",
     "text": [
      "Apple Mango "
     ]
    }
   ],
   "source": [
    "# 5. Write a program to identify duplicate values from list.\n",
    "lst2 = [\"\", \"Mango\", \"Banana\", \"Apple\", \"Grapes\", \"Mango\", \"Orange\"];\n",
    "lst3 = [];\n",
    "for i in lst2:\n",
    "    if i not in lst3:\n",
    "        lst3.append(i);\n",
    "    else:\n",
    "        print(i, end=' ');"
   ]
  },
  {
   "cell_type": "code",
   "execution_count": 7,
   "id": "a2894779",
   "metadata": {},
   "outputs": [
    {
     "name": "stdout",
     "output_type": "stream",
     "text": [
      "Enter a key: Last Name\n",
      "True\n"
     ]
    }
   ],
   "source": [
    "# 6. Write a Python script to check if a given key already exists in a dictionary.\n",
    "dic2 = {\"First Name\":\"Kousar\", \"Last Name\":\"Parveen\", \"Address\":\"Gulshan\"};\n",
    "key = input(\"Enter a key: \");\n",
    "if key in dic2:\n",
    "    print(True);\n",
    "else:\n",
    "    print(False);"
   ]
  },
  {
   "cell_type": "code",
   "execution_count": null,
   "id": "1dbf7b12",
   "metadata": {},
   "outputs": [],
   "source": []
  }
 ],
 "metadata": {
  "kernelspec": {
   "display_name": "Python 3",
   "language": "python",
   "name": "python3"
  },
  "language_info": {
   "codemirror_mode": {
    "name": "ipython",
    "version": 3
   },
   "file_extension": ".py",
   "mimetype": "text/x-python",
   "name": "python",
   "nbconvert_exporter": "python",
   "pygments_lexer": "ipython3",
   "version": "3.8.8"
  }
 },
 "nbformat": 4,
 "nbformat_minor": 5
}
